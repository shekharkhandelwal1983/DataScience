{
 "cells": [
  {
   "cell_type": "markdown",
   "metadata": {},
   "source": [
    "# Pro Kabaddi Analysis Season - 7 [2019]"
   ]
  },
  {
   "cell_type": "code",
   "execution_count": 1,
   "metadata": {},
   "outputs": [],
   "source": [
    "# import libraries \n",
    "import numpy as np\n",
    "import pandas as pd\n",
    "import matplotlib.pyplot as plt\n",
    "import seaborn as sns\n",
    "pd.set_option('display.max_columns', 100)\n",
    "import warnings\n",
    "warnings.filterwarnings(\"ignore\")"
   ]
  },
  {
   "cell_type": "code",
   "execution_count": 2,
   "metadata": {},
   "outputs": [],
   "source": [
    "match_wise_df = pd.read_csv(r'Pro_Kabaddi_Match_Wise_Stats.csv')\n",
    "match_wise_df.columns=[col.replace(' ','_').lower() for col in match_wise_df.columns]\n",
    "match_wise_df['result']= np.where(match_wise_df['team1_score'] > match_wise_df['team2_score'], \n",
    "                                  'team1',np.where( match_wise_df['team1_score'] < match_wise_df['team2_score'],\n",
    "                                                   'team2','tie'))\n",
    "match_wise_df_completed=match_wise_df.iloc[0:112]"
   ]
  },
  {
   "cell_type": "code",
   "execution_count": 3,
   "metadata": {},
   "outputs": [],
   "source": [
    "team1_winners=match_wise_df_completed.team1[match_wise_df_completed.result=='team1']\n",
    "team2_winners=match_wise_df_completed.team2[match_wise_df_completed.result=='team2']\n",
    "\n",
    "team1_perf=match_wise_df_completed[['match','team1','team1_raid', 'team1_tackle', 'team1_allout', 'team1_extra','result']]\n",
    "team1_perf['shadow']='team1'\n",
    "team2_perf=match_wise_df_completed[['match','team2','team2_raid', 'team2_tackle', 'team2_allout', 'team2_extra','result']]\n",
    "team2_perf['shadow']='team2'\n",
    "team1_perf.columns = ['match','team','team_raid', 'team_tackle', 'team_allout', 'team_extra','result','shadow']\n",
    "team2_perf.columns = ['match','team','team_raid', 'team_tackle', 'team_allout', 'team_extra','result','shadow']\n",
    "over_all_perf=pd.concat([team1_perf,team2_perf],axis=0)\n",
    "over_all_perf['winner']=over_all_perf[over_all_perf.result == over_all_perf.shadow].team"
   ]
  },
  {
   "cell_type": "markdown",
   "metadata": {},
   "source": [
    "## Prediction - Post League Matches\n",
    "* if the performance remains constant then each team has to play 11 matches mean of (matrix * 11) could be a good representative"
   ]
  },
  {
   "cell_type": "markdown",
   "metadata": {},
   "source": [
    "### Task 2: Predict the top team in the points table after the completion of the league matches. (Max Points: 05)"
   ]
  },
  {
   "cell_type": "code",
   "execution_count": 4,
   "metadata": {
    "scrolled": true
   },
   "outputs": [
    {
     "data": {
      "text/plain": [
       "<matplotlib.axes._subplots.AxesSubplot at 0x1a246b19e8>"
      ]
     },
     "execution_count": 4,
     "metadata": {},
     "output_type": "execute_result"
    },
    {
     "data": {
      "image/png": "[encoded data removed]",
      "text/plain": [
       "<Figure size 432x288 with 1 Axes>"
      ]
     },
     "metadata": {
      "needs_background": "light"
     },
     "output_type": "display_data"
    }
   ],
   "source": [
    "(over_all_perf.groupby('team').mean()*11)[['team_raid',\n",
    "                                           'team_tackle',\n",
    "                                           'team_allout',\n",
    "                                           'team_extra']].sum(axis=1).sort_values(ascending=False).head(3).plot(kind='bar')"
   ]
  },
  {
   "cell_type": "markdown",
   "metadata": {},
   "source": [
    "### Top Team in point table after league : _\"Dabbang Delhi\"_"
   ]
  },
  {
   "cell_type": "markdown",
   "metadata": {},
   "source": [
    "### Task 3: Predict the team with the highest points for successful raids. (Max Points: 05)"
   ]
  },
  {
   "cell_type": "code",
   "execution_count": 5,
   "metadata": {},
   "outputs": [
    {
     "data": {
      "text/plain": [
       "<matplotlib.axes._subplots.AxesSubplot at 0x1a24a8d320>"
      ]
     },
     "execution_count": 5,
     "metadata": {},
     "output_type": "execute_result"
    },
    {
     "data": {
      "image/png": "[encoded data removed]",
      "text/plain": [
       "<Figure size 432x288 with 1 Axes>"
      ]
     },
     "metadata": {
      "needs_background": "light"
     },
     "output_type": "display_data"
    }
   ],
   "source": [
    "(over_all_perf.groupby('team').mean()*11)[['team_raid']].sum(axis=1).sort_values(ascending=False).head(3).plot(kind='bar')"
   ]
  },
  {
   "cell_type": "markdown",
   "metadata": {},
   "source": [
    "### Top Team in point table with highest successful raid : _\"Bengal Warrior\"_"
   ]
  },
  {
   "cell_type": "markdown",
   "metadata": {},
   "source": [
    "### Task 4: Predict the team with the highest points for successful tackles. (Max Points: 05)"
   ]
  },
  {
   "cell_type": "code",
   "execution_count": 6,
   "metadata": {
    "scrolled": true
   },
   "outputs": [
    {
     "data": {
      "text/plain": [
       "<matplotlib.axes._subplots.AxesSubplot at 0x1a24b717f0>"
      ]
     },
     "execution_count": 6,
     "metadata": {},
     "output_type": "execute_result"
    },
    {
     "data": {
      "image/png": "[encoded data removed]",
      "text/plain": [
       "<Figure size 432x288 with 1 Axes>"
      ]
     },
     "metadata": {
      "needs_background": "light"
     },
     "output_type": "display_data"
    }
   ],
   "source": [
    "(over_all_perf.groupby('team').mean()*11)[['team_tackle']].sum(axis=1).sort_values(ascending=False).head(3).plot(kind='bar')"
   ]
  },
  {
   "cell_type": "markdown",
   "metadata": {},
   "source": [
    "### Top Team in point table with highest successful tackle : _\"Puneri Paltan\"_"
   ]
  },
  {
   "cell_type": "markdown",
   "metadata": {},
   "source": [
    "### Task 5: Predict the team with the highest super-performance total. (Max Points: 05)\n",
    "* The super performance total (S.P.T.) of a team is expressed as:\n",
    "* S.P.T. = Total number of super-raids in the tournament + Total number of super-tackles in the tournament + Total number of all-outs inflicted in the tournament - Total number of all-outs conceded in the tournament"
   ]
  },
  {
   "cell_type": "code",
   "execution_count": 7,
   "metadata": {},
   "outputs": [],
   "source": [
    "team_scorecard_df=pd.read_csv(r'season7_team_scorecard.csv')"
   ]
  },
  {
   "cell_type": "code",
   "execution_count": 8,
   "metadata": {},
   "outputs": [
    {
     "data": {
      "text/plain": [
       "<matplotlib.axes._subplots.AxesSubplot at 0x1a24c5b5c0>"
      ]
     },
     "execution_count": 8,
     "metadata": {},
     "output_type": "execute_result"
    },
    {
     "data": {
      "image/png": "[encoded data removed]",
      "text/plain": [
       "<Figure size 432x288 with 1 Axes>"
      ]
     },
     "metadata": {
      "needs_background": "light"
     },
     "output_type": "display_data"
    }
   ],
   "source": [
    "team_scorecard_df['spt']=(team_scorecard_df.super_raid + team_scorecard_df.super_tackle + team_scorecard_df.all_outs_inflicted - team_scorecard_df.all_outs_conceded)*11/team_scorecard_df.matchs_played\n",
    "team_scorecard_df.groupby('team').sum().spt.sort_values(ascending=False).head(3).plot(kind='bar')"
   ]
  },
  {
   "cell_type": "markdown",
   "metadata": {},
   "source": [
    "### Top Team in point table with highest super performance : _\"Bengal Warrior\"_"
   ]
  },
  {
   "cell_type": "code",
   "execution_count": 9,
   "metadata": {},
   "outputs": [],
   "source": [
    "s7_players_scorecard=pd.read_csv('season7_players_scorecard.csv')\n",
    "s7_players_scorecard.drop_duplicates(subset=['player_id','index'], keep='first',inplace = True)\n",
    "s7_players_scorecard=s7_players_scorecard.iloc[:,1:]\n",
    "s7_players_scorecard.columns=['_'.join(col.split(' ')).lower() for col in s7_players_scorecard.columns]\n",
    "s7_players_scorecard.team_name=s7_players_scorecard.team_name.str.replace('/teams/','')"
   ]
  },
  {
   "cell_type": "markdown",
   "metadata": {},
   "source": [
    "## Filtering only Season 7 Players Data"
   ]
  },
  {
   "cell_type": "code",
   "execution_count": 10,
   "metadata": {},
   "outputs": [],
   "source": [
    "player_team_df=s7_players_scorecard[s7_players_scorecard['index']=='Season 7'][['player_id', 'name', \n",
    "                     'type', 'team_id', 'team_name', 'rank', 'index', \n",
    "                     'matches_played', 'total_points_earned', 'most_points_in_a_match',\n",
    "                     'not_out_percent', 'total_raids', 'successful_raids_percent',\n",
    "                     'no_of_super_raids', 'super_10s', 'total_raid_points',\n",
    "                     'average_raid_points_per_match', 'no_of_super_tackles', 'high_5s',\n",
    "                     'total_tackle_points', 'average_tackle_per_match', 'total_tackles',\n",
    "                     'tackle_strike_rate']]"
   ]
  },
  {
   "cell_type": "markdown",
   "metadata": {},
   "source": [
    "## Player Analysis:"
   ]
  },
  {
   "cell_type": "markdown",
   "metadata": {},
   "source": [
    "### Task 6: Predict the player with the highest SUCCESSFUL RAID percentage. (Max Points: 05)\n",
    "*  (Successful raids/Total raids)x100"
   ]
  },
  {
   "cell_type": "code",
   "execution_count": 11,
   "metadata": {},
   "outputs": [
    {
     "data": {
      "text/plain": [
       "<matplotlib.axes._subplots.AxesSubplot at 0x1a24cf6358>"
      ]
     },
     "execution_count": 11,
     "metadata": {},
     "output_type": "execute_result"
    },
    {
     "data": {
      "image/png": "[encoded data removed]",
      "text/plain": [
       "<Figure size 432x288 with 1 Axes>"
      ]
     },
     "metadata": {
      "needs_background": "light"
     },
     "output_type": "display_data"
    }
   ],
   "source": [
    "successful_raid_series=player_team_df[player_team_df.matches_played > 10][['successful_raids_percent','name']]\n",
    "successful_raid_series.index=successful_raid_series['name']\n",
    "successful_raid_series.successful_raids_percent.sort_values(ascending=False).head(3).plot(kind='bar')"
   ]
  },
  {
   "cell_type": "markdown",
   "metadata": {},
   "source": [
    "### Top Player with highest successful raid % : _\"Saurabh Nandal\"_ considering more than 10 matches played"
   ]
  },
  {
   "cell_type": "markdown",
   "metadata": {},
   "source": [
    "### Task 7: Predict the player with the highest SUCCESSFUL TACKLE percentage. (Max Points: 05)"
   ]
  },
  {
   "cell_type": "markdown",
   "metadata": {},
   "source": [
    "* (Successful tackles/Total tackles)x100"
   ]
  },
  {
   "cell_type": "code",
   "execution_count": 12,
   "metadata": {},
   "outputs": [
    {
     "data": {
      "text/plain": [
       "<matplotlib.axes._subplots.AxesSubplot at 0x1a24e12dd8>"
      ]
     },
     "execution_count": 12,
     "metadata": {},
     "output_type": "execute_result"
    },
    {
     "data": {
      "image/png": "[encoded data removed]",
      "text/plain": [
       "<Figure size 432x288 with 1 Axes>"
      ]
     },
     "metadata": {
      "needs_background": "light"
     },
     "output_type": "display_data"
    }
   ],
   "source": [
    "player_team_df['successful_tackle_percent']=player_team_df.total_tackle_points/player_team_df.total_tackles*100\n",
    "successful_tackle_series=player_team_df[player_team_df.matches_played > 10][['successful_tackle_percent','name']]\n",
    "successful_tackle_series.index=successful_raid_series['name']\n",
    "successful_tackle_series.successful_tackle_percent.sort_values(ascending=False).head(3).plot(kind='bar')"
   ]
  },
  {
   "cell_type": "markdown",
   "metadata": {},
   "source": [
    "### Top Player with highest successful tackle % : _\"Sonu Jaglan\"_ considering more than 10 matches played"
   ]
  },
  {
   "cell_type": "markdown",
   "metadata": {},
   "source": [
    "### Task 1: Predict the winner of the tournament. (Max Points: 05)\n",
    "- find best of 6 from league\n",
    "- compare #3 vs #6 for eliminator 1 => el1\n",
    "- compare #4 vs #5 for eliminator 2 => el2\n",
    "- compare #1 vs el1 => semi1\n",
    "- compare #2 vs el2 => semi2\n",
    "- compare semi1 vs semi2 => final"
   ]
  },
  {
   "cell_type": "code",
   "execution_count": 13,
   "metadata": {},
   "outputs": [],
   "source": [
    "over_all_perf['winner']=over_all_perf[over_all_perf.result == over_all_perf.shadow].team\n",
    "winner=[]\n",
    "counter=0\n",
    "for col in match_wise_df_completed.result:\n",
    "    if col == 'tie':\n",
    "        winner.append('tie')\n",
    "    else:\n",
    "        winner.append(match_wise_df_completed[col][counter])\n",
    "    counter+=1\n",
    "\n",
    "match_wise_df_completed['winner']=pd.Series(winner)\n",
    "perf_df=pd.DataFrame(np.array(match_wise_df_completed[['team1_raid', 'team1_tackle', 'team1_allout', 'team1_extra']]) - np.array(match_wise_df_completed[['team2_raid', 'team2_tackle', 'team2_allout', 'team2_extra']]),columns=['raid_diff','tackle_diff','allout_diff','extra_diff'])\n",
    "match_wise_df_completed=match_wise_df_completed.join(perf_df)\n",
    "match_wise_df_completed.update(-1*match_wise_df_completed[match_wise_df_completed.result=='team2'][['raid_diff','tackle_diff','allout_diff','extra_diff']])\n",
    "match_wise_df_completed['score_diff']=match_wise_df_completed[['raid_diff','tackle_diff','allout_diff','extra_diff']].sum(axis=1)\n",
    "match_wise_perf_df=match_wise_df_completed[['match','team1','team2','winner','raid_diff','tackle_diff','allout_diff','extra_diff','score_diff']]\n",
    "match_wise_perf_df['match'] = match_wise_perf_df['match'].astype('category')"
   ]
  },
  {
   "cell_type": "code",
   "execution_count": 14,
   "metadata": {},
   "outputs": [],
   "source": [
    "# best of 6 from league\n",
    "league_rank=(over_all_perf.groupby('team').mean()*11)[['team_raid',\n",
    "                                           'team_tackle',\n",
    "                                           'team_allout',\n",
    "                                           'team_extra']].sum(axis=1).sort_values(ascending=False).head(6)"
   ]
  },
  {
   "cell_type": "code",
   "execution_count": 15,
   "metadata": {},
   "outputs": [],
   "source": [
    "rank_1=league_rank.index[0]\n",
    "rank_2=league_rank.index[1]\n",
    "rank_3=league_rank.index[2]\n",
    "rank_4=league_rank.index[3]\n",
    "rank_5=league_rank.index[4]\n",
    "rank_6=league_rank.index[5]"
   ]
  },
  {
   "cell_type": "code",
   "execution_count": 16,
   "metadata": {},
   "outputs": [],
   "source": [
    "def predict_winner(t1 , t2):\n",
    "    match_stats=match_wise_df_completed[((match_wise_df_completed.team1 == t1) & (match_wise_df_completed.team2 == t2)) |\n",
    "                                 ((match_wise_df_completed.team2 == t1) & (match_wise_df_completed.team1 == t2))][['team1','team2','winner',  'raid_diff',  'tackle_diff',  'allout_diff', 'extra_diff',  'score_diff']]\n",
    "    t1_win_cnt=len(match_stats[match_stats.winner == t1])\n",
    "    t2_win_cnt=len(match_stats[match_stats.winner == t2])\n",
    "    if (t1_win_cnt > t2_win_cnt):\n",
    "        return t1\n",
    "    elif (t1_win_cnt < t2_win_cnt):\n",
    "        return t2\n",
    "    else:\n",
    "        t1_score_diff=sum(match_stats[match_stats.winner == t1].score_diff)\n",
    "        t2_score_diff=sum(match_stats[match_stats.winner == t2].score_diff)\n",
    "        if (t1_score_diff > t2_score_diff):\n",
    "            return t1\n",
    "        elif (t1_score_diff < t2_score_diff):\n",
    "            return t2\n",
    "        else:\n",
    "            return 'TIE'"
   ]
  },
  {
   "cell_type": "markdown",
   "metadata": {},
   "source": [
    "### Predicting Eliminator 1\n",
    "- Between Rank #3 vs Rank #6"
   ]
  },
  {
   "cell_type": "code",
   "execution_count": 17,
   "metadata": {},
   "outputs": [
    {
     "name": "stdout",
     "output_type": "stream",
     "text": [
      "Bengaluru Bulls  vs Puneri Paltan\n",
      "Predicted winner Eliminator 1: Puneri Paltan\n"
     ]
    }
   ],
   "source": [
    "print(rank_3,' vs', rank_6)\n",
    "el1=predict_winner(rank_3, rank_6)\n",
    "print('Predicted winner Eliminator 1:',el1)"
   ]
  },
  {
   "cell_type": "markdown",
   "metadata": {},
   "source": [
    "### Predicting Eliminator 2\n",
    "- Between Rank #4 vs Rank #5"
   ]
  },
  {
   "cell_type": "code",
   "execution_count": 18,
   "metadata": {},
   "outputs": [
    {
     "name": "stdout",
     "output_type": "stream",
     "text": [
      "Patna Pirates  vs Haryana Steelers\n",
      "Predicted winner Eleminator 2: Haryana Steelers\n"
     ]
    }
   ],
   "source": [
    "print(rank_4,' vs', rank_5)\n",
    "el2=predict_winner(rank_4, rank_5)\n",
    "print('Predicted winner Eleminator 2:',el2)"
   ]
  },
  {
   "cell_type": "markdown",
   "metadata": {},
   "source": [
    "### Predicting Semifinals 1\n",
    "- Between Rank #1 vs Eliminator #1"
   ]
  },
  {
   "cell_type": "code",
   "execution_count": 19,
   "metadata": {},
   "outputs": [
    {
     "name": "stdout",
     "output_type": "stream",
     "text": [
      "Dabang Delhi  vs Puneri Paltan\n",
      "Predicted winner Semifinal 1: Dabang Delhi\n"
     ]
    }
   ],
   "source": [
    "print(rank_1,' vs', el1)\n",
    "semi1=predict_winner(rank_1, el1)\n",
    "print('Predicted winner Semifinal 1:',semi1)"
   ]
  },
  {
   "cell_type": "markdown",
   "metadata": {},
   "source": [
    "### Predicting Semifinals 2\n",
    "- Between Rank #2 vs Eliminator #2"
   ]
  },
  {
   "cell_type": "code",
   "execution_count": 20,
   "metadata": {},
   "outputs": [
    {
     "name": "stdout",
     "output_type": "stream",
     "text": [
      "Bengal Warriors  vs Haryana Steelers\n",
      "Predicted winner Semifinal 2: Bengal Warriors\n"
     ]
    }
   ],
   "source": [
    "print(rank_2,' vs', el2)\n",
    "semi2=predict_winner(rank_2, el2)\n",
    "print('Predicted winner Semifinal 2:',semi2)"
   ]
  },
  {
   "cell_type": "markdown",
   "metadata": {},
   "source": [
    "### Predicting Finals\n",
    "- Between Semifinals #1 vs Semifinals #2"
   ]
  },
  {
   "cell_type": "code",
   "execution_count": 21,
   "metadata": {},
   "outputs": [
    {
     "name": "stdout",
     "output_type": "stream",
     "text": [
      "Dabang Delhi  vs Bengal Warriors\n",
      "Predicted winner final : TIE\n"
     ]
    }
   ],
   "source": [
    "print(semi1,' vs', semi2)\n",
    "final=predict_winner(semi1, semi2)\n",
    "print('Predicted winner final :',final)"
   ]
  },
  {
   "cell_type": "markdown",
   "metadata": {},
   "source": [
    "### Finally the winner considering performance of all the teams so far in season 7\n",
    "# \"TIE\" between _\"Dabang Delhi  & Bengal Warriors\"_"
   ]
  },
  {
   "cell_type": "markdown",
   "metadata": {},
   "source": [
    "#### But if we consider the past performnce one match between Dabang Delhi  vs Bengal Warriors : match - 45"
   ]
  },
  {
   "cell_type": "code",
   "execution_count": 22,
   "metadata": {},
   "outputs": [
    {
     "data": {
      "text/html": [
       "<div>\n",
       "<style scoped>\n",
       "    .dataframe tbody tr th:only-of-type {\n",
       "        vertical-align: middle;\n",
       "    }\n",
       "\n",
       "    .dataframe tbody tr th {\n",
       "        vertical-align: top;\n",
       "    }\n",
       "\n",
       "    .dataframe thead th {\n",
       "        text-align: right;\n",
       "    }\n",
       "</style>\n",
       "<table border=\"1\" class=\"dataframe\">\n",
       "  <thead>\n",
       "    <tr style=\"text-align: right;\">\n",
       "      <th></th>\n",
       "      <th>date</th>\n",
       "      <th>match</th>\n",
       "      <th>team1</th>\n",
       "      <th>team1_score</th>\n",
       "      <th>team2_score</th>\n",
       "      <th>team2</th>\n",
       "      <th>venue</th>\n",
       "      <th>team1_raid</th>\n",
       "      <th>team1_tackle</th>\n",
       "      <th>team1_allout</th>\n",
       "      <th>team1_extra</th>\n",
       "      <th>team2_raid</th>\n",
       "      <th>team2_tackle</th>\n",
       "      <th>team2_allout</th>\n",
       "      <th>team2_extra</th>\n",
       "      <th>result</th>\n",
       "      <th>winner</th>\n",
       "      <th>raid_diff</th>\n",
       "      <th>tackle_diff</th>\n",
       "      <th>allout_diff</th>\n",
       "      <th>extra_diff</th>\n",
       "      <th>score_diff</th>\n",
       "    </tr>\n",
       "  </thead>\n",
       "  <tbody>\n",
       "    <tr>\n",
       "      <th>45</th>\n",
       "      <td>8/17/2019</td>\n",
       "      <td>46</td>\n",
       "      <td>Bengal Warriors</td>\n",
       "      <td>30.0</td>\n",
       "      <td>30.0</td>\n",
       "      <td>Dabang Delhi</td>\n",
       "      <td>Chennai Jawaharlal Nehru Stdm</td>\n",
       "      <td>19.0</td>\n",
       "      <td>7.0</td>\n",
       "      <td>2.0</td>\n",
       "      <td>2.0</td>\n",
       "      <td>18.0</td>\n",
       "      <td>7.0</td>\n",
       "      <td>2.0</td>\n",
       "      <td>3.0</td>\n",
       "      <td>tie</td>\n",
       "      <td>tie</td>\n",
       "      <td>1.0</td>\n",
       "      <td>0.0</td>\n",
       "      <td>0.0</td>\n",
       "      <td>-1.0</td>\n",
       "      <td>0.0</td>\n",
       "    </tr>\n",
       "  </tbody>\n",
       "</table>\n",
       "</div>"
      ],
      "text/plain": [
       "         date  match            team1  team1_score  team2_score         team2  \\\n",
       "45  8/17/2019     46  Bengal Warriors         30.0         30.0  Dabang Delhi   \n",
       "\n",
       "                            venue  team1_raid  team1_tackle  team1_allout  \\\n",
       "45  Chennai Jawaharlal Nehru Stdm        19.0           7.0           2.0   \n",
       "\n",
       "    team1_extra  team2_raid  team2_tackle  team2_allout  team2_extra result  \\\n",
       "45          2.0        18.0           7.0           2.0          3.0    tie   \n",
       "\n",
       "   winner  raid_diff  tackle_diff  allout_diff  extra_diff  score_diff  \n",
       "45    tie        1.0          0.0          0.0        -1.0         0.0  "
      ]
     },
     "execution_count": 22,
     "metadata": {},
     "output_type": "execute_result"
    }
   ],
   "source": [
    "match_wise_df_completed[match_wise_df_completed.index == 45]"
   ]
  },
  {
   "cell_type": "markdown",
   "metadata": {},
   "source": [
    "#### Bengal Warriors had one point extra in raiding while Dabbang Delhi had one point extra in Extra points.\n",
    "### Giving an higher priority to raiding against Extra point we have decided to go with the final winner as \n",
    "\n",
    "# _\"Bengal Warrior\"_"
   ]
  },
  {
   "cell_type": "markdown",
   "metadata": {},
   "source": [
    "# Thank you!!"
   ]
  },
  {
   "cell_type": "code",
   "execution_count": null,
   "metadata": {},
   "outputs": [],
   "source": []
  }
 ],
 "metadata": {
  "kernelspec": {
   "display_name": "Python 3",
   "language": "python",
   "name": "python3"
  },
  "language_info": {
   "codemirror_mode": {
    "name": "ipython",
    "version": 3
   },
   "file_extension": ".py",
   "mimetype": "text/x-python",
   "name": "python",
   "nbconvert_exporter": "python",
   "pygments_lexer": "ipython3",
   "version": "3.7.3"
  }
 },
 "nbformat": 4,
 "nbformat_minor": 2
}
